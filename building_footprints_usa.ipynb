{
  "cells": [
    {
      "cell_type": "markdown",
      "metadata": {
        "id": "uxEJPwprbEay"
      },
      "source": [
        "# Building Footprint Extraction for the USA\n",
        "\n",
        "[![image](https://colab.research.google.com/assets/colab-badge.svg)](https://colab.research.google.com/github/opengeos/geoai/blob/main/docs/examples/building_footprints_usa.ipynb)\n",
        "\n",
        "## Install package\n",
        "To use the `geoai-py` package, ensure it is installed in your environment. Uncomment the command below if needed."
      ]
    },
    {
      "cell_type": "code",
      "execution_count": null,
      "metadata": {
        "id": "R4aAtkg3bEa0"
      },
      "outputs": [],
      "source": [
        "# %pip install geoai-py"
      ]
    },
    {
      "cell_type": "markdown",
      "metadata": {
        "id": "_74yTdjqbEa0"
      },
      "source": [
        "## Import libraries"
      ]
    },
    {
      "cell_type": "code",
      "execution_count": null,
      "metadata": {
        "id": "TOcqswPHbEa0"
      },
      "outputs": [],
      "source": [
        "import geoai"
      ]
    },
    {
      "cell_type": "markdown",
      "metadata": {
        "id": "bjeBHVsvbEa1"
      },
      "source": [
        "## Download sample data"
      ]
    },
    {
      "cell_type": "code",
      "execution_count": null,
      "metadata": {
        "id": "3mMExJwNbEa1"
      },
      "outputs": [],
      "source": [
        "raster_url = (\n",
        "    \"https://huggingface.co/datasets/giswqs/geospatial/resolve/main/naip_train.tif\"\n",
        ")\n",
        "vector_url = \"https://huggingface.co/datasets/giswqs/geospatial/resolve/main/naip_train_buildings.geojson\""
      ]
    },
    {
      "cell_type": "code",
      "execution_count": null,
      "metadata": {
        "id": "PdqUdsIwbEa1"
      },
      "outputs": [],
      "source": [
        "raster_path = geoai.download_file(raster_url)"
      ]
    },
    {
      "cell_type": "code",
      "execution_count": null,
      "metadata": {
        "id": "Vz2WkTo6bEa1"
      },
      "outputs": [],
      "source": [
        "vector_path = geoai.download_file(vector_url)"
      ]
    },
    {
      "cell_type": "markdown",
      "metadata": {
        "id": "QrtXqA4zbEa1"
      },
      "source": [
        "## Initialize building footprint extraction pretrained model"
      ]
    },
    {
      "cell_type": "code",
      "execution_count": null,
      "metadata": {
        "id": "b481WSY-bEa1"
      },
      "outputs": [],
      "source": [
        "extractor = geoai.BuildingFootprintExtractor()"
      ]
    },
    {
      "cell_type": "markdown",
      "metadata": {
        "id": "2TDgPQ9tbEa1"
      },
      "source": [
        "## Extract building footprints\n",
        "\n",
        "### Option 1: Extract building footprints as raster"
      ]
    },
    {
      "cell_type": "code",
      "execution_count": null,
      "metadata": {
        "id": "Z_VaU1LbbEa2"
      },
      "outputs": [],
      "source": [
        "mask_path = extractor.save_masks_as_geotiff(\n",
        "    raster_path=raster_path,\n",
        "    output_path=\"building_masks.tif\",\n",
        "    confidence_threshold=0.5,\n",
        "    mask_threshold=0.5,\n",
        ")"
      ]
    },
    {
      "cell_type": "markdown",
      "metadata": {
        "id": "QEptwZLobEa2"
      },
      "source": [
        "Convert raster to vector"
      ]
    },
    {
      "cell_type": "code",
      "execution_count": null,
      "metadata": {
        "id": "HZlfAXhxbEa2"
      },
      "outputs": [],
      "source": [
        "gdf = extractor.masks_to_vector(\n",
        "    mask_path=mask_path,\n",
        "    output_path=\"building_masks.geojson\",\n",
        "    simplify_tolerance=1.0,\n",
        ")"
      ]
    },
    {
      "cell_type": "markdown",
      "metadata": {
        "id": "CEmN6CRKbEa2"
      },
      "source": [
        "### Option 2: Extract building footprints as vector"
      ]
    },
    {
      "cell_type": "code",
      "execution_count": null,
      "metadata": {
        "id": "KjaPPuPYbEa2"
      },
      "outputs": [],
      "source": [
        "output_path = \"naip_buildings.geojson\"\n",
        "gdf = extractor.process_raster(\n",
        "    raster_path,\n",
        "    output_path=\"buildings.geojson\",\n",
        "    batch_size=4,\n",
        "    confidence_threshold=0.5,\n",
        "    overlap=0.25,\n",
        "    nms_iou_threshold=0.5,\n",
        "    min_object_area=100,\n",
        "    max_object_area=None,\n",
        "    mask_threshold=0.5,\n",
        "    simplify_tolerance=1.0,\n",
        ")"
      ]
    },
    {
      "cell_type": "markdown",
      "metadata": {
        "id": "0v8eNHVubEa2"
      },
      "source": [
        "## Regularize building footprints"
      ]
    },
    {
      "cell_type": "code",
      "execution_count": null,
      "metadata": {
        "id": "TNtp_MUDbEa2"
      },
      "outputs": [],
      "source": [
        "gdf_regularized = extractor.regularize_buildings(\n",
        "    gdf=gdf,\n",
        "    min_area=100,\n",
        "    angle_threshold=15,\n",
        "    orthogonality_threshold=0.3,\n",
        "    rectangularity_threshold=0.7,\n",
        ")"
      ]
    },
    {
      "cell_type": "markdown",
      "metadata": {
        "id": "qzwMIq_pbEa2"
      },
      "source": [
        "## Visualize building footprints"
      ]
    },
    {
      "cell_type": "code",
      "execution_count": null,
      "metadata": {
        "id": "_sE8PFh7bEa2"
      },
      "outputs": [],
      "source": [
        "gdf.head()"
      ]
    },
    {
      "cell_type": "code",
      "execution_count": null,
      "metadata": {
        "id": "cKO7OoI3bEa2"
      },
      "outputs": [],
      "source": [
        "geoai.view_vector_interactive(\n",
        "    gdf, column=\"confidence\", layer_name=\"Building\", tiles=\"Satellite\"\n",
        ")"
      ]
    },
    {
      "cell_type": "code",
      "execution_count": null,
      "metadata": {
        "id": "_ZsVH4ffbEa2"
      },
      "outputs": [],
      "source": [
        "geoai.view_vector_interactive(\n",
        "    gdf, column=\"confidence\", layer_name=\"Building\", tiles=raster_url\n",
        ")"
      ]
    },
    {
      "cell_type": "code",
      "execution_count": null,
      "metadata": {
        "id": "wlLbshPZbEa2"
      },
      "outputs": [],
      "source": [
        "geoai.view_vector_interactive(\n",
        "    gdf_regularized, column=\"confidence\", layer_name=\"Building\", tiles=raster_url\n",
        ")"
      ]
    },
    {
      "cell_type": "code",
      "execution_count": null,
      "metadata": {
        "id": "J7hi4LgubEa2"
      },
      "outputs": [],
      "source": [
        "extractor.visualize_results(raster_path, gdf, output_path=\"naip_buildings.png\")"
      ]
    },
    {
      "cell_type": "code",
      "execution_count": null,
      "metadata": {
        "id": "ptZUVqIrbEa2"
      },
      "outputs": [],
      "source": [
        "extractor.visualize_results(\n",
        "    raster_path, gdf_regularized, output_path=\"naip_buildings_regularized.png\"\n",
        ")"
      ]
    }
  ],
  "metadata": {
    "kernelspec": {
      "display_name": "geo",
      "language": "python",
      "name": "python3"
    },
    "language_info": {
      "codemirror_mode": {
        "name": "ipython",
        "version": 3
      },
      "file_extension": ".py",
      "mimetype": "text/x-python",
      "name": "python",
      "nbconvert_exporter": "python",
      "pygments_lexer": "ipython3",
      "version": "3.12.2"
    },
    "colab": {
      "provenance": []
    }
  },
  "nbformat": 4,
  "nbformat_minor": 0
}