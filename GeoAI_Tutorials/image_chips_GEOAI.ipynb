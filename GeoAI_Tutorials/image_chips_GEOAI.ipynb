{
  "cells": [
    {
      "cell_type": "markdown",
      "metadata": {
        "id": "DKe-RFyElYDk"
      },
      "source": [
        "# Generate Image Chips\n",
        "\n",
        "[![image](https://colab.research.google.com/assets/colab-badge.svg)](https://colab.research.google.com/github/opengeos/geoai/blob/main/docs/examples/image_chips.ipynb)\n",
        "\n",
        "## Install Package\n",
        "To use the `geoai-py` package, ensure it is installed in your environment. Uncomment the command below if needed."
      ]
    },
    {
      "cell_type": "code",
      "execution_count": null,
      "metadata": {
        "id": "A85IjqvNlYDm"
      },
      "outputs": [],
      "source": [
        "# %pip install geoai-py"
      ]
    },
    {
      "cell_type": "markdown",
      "metadata": {
        "id": "kyI2O2CflYDn"
      },
      "source": [
        "## Import Packages"
      ]
    },
    {
      "cell_type": "code",
      "execution_count": null,
      "metadata": {
        "id": "O7pHvY7SlYDn"
      },
      "outputs": [],
      "source": [
        "import geoai"
      ]
    },
    {
      "cell_type": "markdown",
      "metadata": {
        "id": "xgvkknsWlYDn"
      },
      "source": [
        "## Download sample data"
      ]
    },
    {
      "cell_type": "code",
      "execution_count": null,
      "metadata": {
        "id": "mCPQbUnvlYDn"
      },
      "outputs": [],
      "source": [
        "raster_url = (\n",
        "    \"https://huggingface.co/datasets/giswqs/geospatial/resolve/main/naip_train.tif\"\n",
        ")\n",
        "vector_url = \"https://huggingface.co/datasets/giswqs/geospatial/resolve/main/naip_train_buildings.geojson\""
      ]
    },
    {
      "cell_type": "code",
      "execution_count": null,
      "metadata": {
        "id": "FJ_0wFellYDn"
      },
      "outputs": [],
      "source": [
        "raster_path = geoai.download_file(raster_url)"
      ]
    },
    {
      "cell_type": "code",
      "execution_count": null,
      "metadata": {
        "id": "sjQLVNM_lYDn"
      },
      "outputs": [],
      "source": [
        "vector_path = geoai.download_file(vector_url)"
      ]
    },
    {
      "cell_type": "markdown",
      "metadata": {
        "id": "0ytZiL-DlYDo"
      },
      "source": [
        "## Preview data"
      ]
    },
    {
      "cell_type": "code",
      "execution_count": null,
      "metadata": {
        "id": "yQN9dOmMlYDo"
      },
      "outputs": [],
      "source": [
        "geoai.view_image(raster_path, figsize=(18, 10))"
      ]
    },
    {
      "cell_type": "code",
      "execution_count": null,
      "metadata": {
        "id": "CTIWwf5_lYDo"
      },
      "outputs": [],
      "source": [
        "geoai.view_vector(vector_path, basemap=True, alpha=0.5, figsize=(18, 10))"
      ]
    },
    {
      "cell_type": "code",
      "execution_count": null,
      "metadata": {
        "id": "nGGQUpjOlYDo"
      },
      "outputs": [],
      "source": [
        "geoai.view_vector_interactive(vector_path)"
      ]
    },
    {
      "cell_type": "markdown",
      "metadata": {
        "id": "eKCWOirelYDo"
      },
      "source": [
        "## Convert vector to raster"
      ]
    },
    {
      "cell_type": "code",
      "execution_count": null,
      "metadata": {
        "id": "e287B6D8lYDo"
      },
      "outputs": [],
      "source": [
        "output_path = vector_path.replace(\".geojson\", \".tif\")\n",
        "geoai.vector_to_raster(vector_path, output_path, reference_raster=raster_path)"
      ]
    },
    {
      "cell_type": "code",
      "execution_count": null,
      "metadata": {
        "id": "vYgG5839lYDo"
      },
      "outputs": [],
      "source": [
        "geoai.view_image(output_path, figsize=(18, 10))"
      ]
    },
    {
      "cell_type": "markdown",
      "metadata": {
        "id": "avFyK_V5lYDo"
      },
      "source": [
        "## Generate image chips"
      ]
    },
    {
      "cell_type": "code",
      "execution_count": null,
      "metadata": {
        "id": "L1mDBGL1lYDo"
      },
      "outputs": [],
      "source": [
        "tiles = geoai.export_geotiff_tiles(\n",
        "    in_raster=raster_path,\n",
        "    out_folder=\"output\",\n",
        "    in_class_data=vector_path,\n",
        "    tile_size=512,\n",
        "    stride=256,\n",
        "    buffer_radius=0,\n",
        "    create_overview=True,\n",
        "    quiet=True,\n",
        ")"
      ]
    },
    {
      "cell_type": "markdown",
      "metadata": {
        "id": "Jnu2Y6DwlYDo"
      },
      "source": [
        "## Preview image chips"
      ]
    },
    {
      "cell_type": "code",
      "execution_count": null,
      "metadata": {
        "id": "9mm53DL7lYDo"
      },
      "outputs": [],
      "source": [
        "geoai.view_image(\"output/overview.png\", figsize=(18, 10))"
      ]
    },
    {
      "cell_type": "code",
      "execution_count": null,
      "metadata": {
        "id": "mXAxmlKflYDo"
      },
      "outputs": [],
      "source": [
        "geoai.view_image(\"output/images/tile_000000.tif\")"
      ]
    },
    {
      "cell_type": "code",
      "execution_count": null,
      "metadata": {
        "id": "pcsyS4HRlYDp"
      },
      "outputs": [],
      "source": [
        "geoai.view_image(\"output/labels/tile_000000.tif\")"
      ]
    },
    {
      "cell_type": "code",
      "execution_count": null,
      "metadata": {
        "id": "YceGh4BzlYDp"
      },
      "outputs": [],
      "source": [
        "geoai.view_image(\"output/images/tile_000001.tif\")"
      ]
    },
    {
      "cell_type": "code",
      "execution_count": null,
      "metadata": {
        "id": "ySMs6vfClYDp"
      },
      "outputs": [],
      "source": [
        "geoai.view_image(\"output/labels/tile_000001.tif\")"
      ]
    }
  ],
  "metadata": {
    "kernelspec": {
      "display_name": "torch",
      "language": "python",
      "name": "python3"
    },
    "language_info": {
      "codemirror_mode": {
        "name": "ipython",
        "version": 3
      },
      "file_extension": ".py",
      "mimetype": "text/x-python",
      "name": "python",
      "nbconvert_exporter": "python",
      "pygments_lexer": "ipython3",
      "version": "3.11.8"
    },
    "colab": {
      "provenance": []
    }
  },
  "nbformat": 4,
  "nbformat_minor": 0
}