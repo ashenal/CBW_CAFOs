{
  "cells": [
    {
      "cell_type": "markdown",
      "metadata": {
        "id": "h3GMY4Z9wuCe"
      },
      "source": [
        "# Train an Object Detection Model with GeoAI\n",
        "\n",
        "[![image](https://colab.research.google.com/assets/colab-badge.svg)](https://colab.research.google.com/github/opengeos/geoai/blob/main/docs/examples/train_object_detection_model.ipynb)\n",
        "\n",
        "## Install package\n",
        "To use the `geoai-py` package, ensure it is installed in your environment. Uncomment the command below if needed."
      ]
    },
    {
      "cell_type": "code",
      "execution_count": null,
      "metadata": {
        "id": "ri8V9OZZwuCg"
      },
      "outputs": [],
      "source": [
        "# %pip install geoai-py"
      ]
    },
    {
      "cell_type": "markdown",
      "metadata": {
        "id": "q8C3WMaGwuCh"
      },
      "source": [
        "## Import libraries"
      ]
    },
    {
      "cell_type": "code",
      "execution_count": null,
      "metadata": {
        "id": "1vzv_TnkwuCh"
      },
      "outputs": [],
      "source": [
        "import geoai"
      ]
    },
    {
      "cell_type": "markdown",
      "metadata": {
        "id": "tstn4jAhwuCh"
      },
      "source": [
        "## Download sample data"
      ]
    },
    {
      "cell_type": "code",
      "execution_count": null,
      "metadata": {
        "id": "-oitcX3MwuCh"
      },
      "outputs": [],
      "source": [
        "train_raster_url = (\n",
        "    \"https://huggingface.co/datasets/giswqs/geospatial/resolve/main/naip_train.tif\"\n",
        ")\n",
        "train_vector_url = \"https://huggingface.co/datasets/giswqs/geospatial/resolve/main/naip_train_buildings.geojson\"\n",
        "test_raster_url = (\n",
        "    \"https://huggingface.co/datasets/giswqs/geospatial/resolve/main/naip_test.tif\"\n",
        ")"
      ]
    },
    {
      "cell_type": "code",
      "execution_count": null,
      "metadata": {
        "id": "72S7fLSVwuCh"
      },
      "outputs": [],
      "source": [
        "train_raster_path = geoai.download_file(train_raster_url)\n",
        "train_vector_path = geoai.download_file(train_vector_url)\n",
        "test_raster_path = geoai.download_file(test_raster_url)"
      ]
    },
    {
      "cell_type": "markdown",
      "metadata": {
        "id": "f2SKP6x9wuCh"
      },
      "source": [
        "## Visualize sample data"
      ]
    },
    {
      "cell_type": "code",
      "execution_count": null,
      "metadata": {
        "id": "heC_MmT3wuCi"
      },
      "outputs": [],
      "source": [
        "geoai.view_vector_interactive(train_vector_path, tiles=train_raster_url)"
      ]
    },
    {
      "cell_type": "code",
      "execution_count": null,
      "metadata": {
        "id": "cVC4d2SlwuCi"
      },
      "outputs": [],
      "source": [
        "geoai.view_raster(test_raster_url)"
      ]
    },
    {
      "cell_type": "markdown",
      "metadata": {
        "id": "o-DW7vt1wuCi"
      },
      "source": [
        "## Create training data"
      ]
    },
    {
      "cell_type": "code",
      "execution_count": null,
      "metadata": {
        "id": "vq9AhUT0wuCi"
      },
      "outputs": [],
      "source": [
        "out_folder = \"output\"\n",
        "tiles = geoai.export_geotiff_tiles(\n",
        "    in_raster=train_raster_path,\n",
        "    out_folder=out_folder,\n",
        "    in_class_data=train_vector_path,\n",
        "    tile_size=512,\n",
        "    stride=256,\n",
        "    buffer_radius=0,\n",
        ")"
      ]
    },
    {
      "cell_type": "markdown",
      "metadata": {
        "id": "DhnoEGjDwuCi"
      },
      "source": [
        "## Train object detection model"
      ]
    },
    {
      "cell_type": "code",
      "execution_count": null,
      "metadata": {
        "id": "uaSC2MhrwuCi"
      },
      "outputs": [],
      "source": [
        "geoai.train_MaskRCNN_model(\n",
        "    images_dir=f\"{out_folder}/images\",\n",
        "    labels_dir=f\"{out_folder}/labels\",\n",
        "    output_dir=f\"{out_folder}/models\",\n",
        "    num_channels=4,\n",
        "    pretrained=True,\n",
        "    batch_size=4,\n",
        "    num_epochs=10,\n",
        "    learning_rate=0.005,\n",
        "    val_split=0.2,\n",
        ")"
      ]
    },
    {
      "cell_type": "markdown",
      "metadata": {
        "id": "O9xeckGUwuCi"
      },
      "source": [
        "## Run inference"
      ]
    },
    {
      "cell_type": "code",
      "execution_count": null,
      "metadata": {
        "id": "NYj87gKlwuCi"
      },
      "outputs": [],
      "source": [
        "masks_path = \"naip_test_prediction.tif\"\n",
        "model_path = f\"{out_folder}/models/best_model.pth\""
      ]
    },
    {
      "cell_type": "code",
      "execution_count": null,
      "metadata": {
        "id": "TrejKSm_wuCi"
      },
      "outputs": [],
      "source": [
        "geoai.object_detection(\n",
        "    test_raster_path,\n",
        "    masks_path,\n",
        "    model_path,\n",
        "    window_size=512,\n",
        "    overlap=256,\n",
        "    confidence_threshold=0.5,\n",
        "    batch_size=4,\n",
        "    num_channels=4,\n",
        ")"
      ]
    },
    {
      "cell_type": "markdown",
      "metadata": {
        "id": "vfiN0HuCwuCj"
      },
      "source": [
        "## Vectorize masks"
      ]
    },
    {
      "cell_type": "code",
      "execution_count": null,
      "metadata": {
        "id": "522nbxuWwuCj"
      },
      "outputs": [],
      "source": [
        "output_path = \"naip_test_prediction.geojson\"\n",
        "gdf = geoai.orthogonalize(masks_path, output_path, epsilon=2)"
      ]
    },
    {
      "cell_type": "markdown",
      "metadata": {
        "id": "Hex5SYeOwuCj"
      },
      "source": [
        "## Visualize results"
      ]
    },
    {
      "cell_type": "code",
      "execution_count": null,
      "metadata": {
        "id": "855I_AuOwuCj"
      },
      "outputs": [],
      "source": [
        "geoai.view_vector_interactive(output_path, tiles=test_raster_url)"
      ]
    },
    {
      "cell_type": "code",
      "execution_count": null,
      "metadata": {
        "id": "dL-l4VPvwuCj"
      },
      "outputs": [],
      "source": [
        "geoai.create_split_map(\n",
        "    left_layer=output_path,\n",
        "    right_layer=test_raster_url,\n",
        "    left_args={\"style\": {\"color\": \"red\", \"fillOpacity\": 0.2}},\n",
        "    basemap=test_raster_url,\n",
        ")"
      ]
    },
    {
      "cell_type": "markdown",
      "metadata": {
        "id": "Dzy7TxDgwuCj"
      },
      "source": [
        "![image](https://github.com/user-attachments/assets/8dfcc69e-7a6c-408a-9fae-10b81b7d85dc)"
      ]
    }
  ],
  "metadata": {
    "kernelspec": {
      "display_name": "geo",
      "language": "python",
      "name": "python3"
    },
    "language_info": {
      "codemirror_mode": {
        "name": "ipython",
        "version": 3
      },
      "file_extension": ".py",
      "mimetype": "text/x-python",
      "name": "python",
      "nbconvert_exporter": "python",
      "pygments_lexer": "ipython3",
      "version": "3.12.9"
    },
    "colab": {
      "provenance": []
    }
  },
  "nbformat": 4,
  "nbformat_minor": 0
}